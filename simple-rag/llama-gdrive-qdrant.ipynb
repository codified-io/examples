{
 "cells": [
  {
   "cell_type": "code",
   "execution_count": null,
   "id": "1aaa6ca3",
   "metadata": {},
   "outputs": [],
   "source": [
    "import os\n",
    "\n",
    "from dotenv import load_dotenv\n",
    "from llama_index.core import Settings, StorageContext, VectorStoreIndex\n",
    "from llama_index.core.chat_engine import ContextChatEngine\n",
    "from llama_index.readers.file import DocxReader\n",
    "from llama_index.readers.google import GoogleDriveReader\n",
    "from llama_index.vector_stores.qdrant import QdrantVectorStore\n",
    "from qdrant_client import QdrantClient\n",
    "from qdrant_client.models import CollectionInfo, Distance, VectorParams\n",
    "\n",
    "from codified_client import CodifiedClient, CodifiedRetriever, access_context\n",
    "\n",
    "load_dotenv()\n",
    "\n",
    "dimensions = len(Settings.embed_model.get_text_embedding(\"get vector dimensions\"))"
   ]
  },
  {
   "cell_type": "code",
   "execution_count": null,
   "id": "9e7f546a",
   "metadata": {
    "vscode": {
     "languageId": "markdown"
    }
   },
   "outputs": [],
   "source": [
    "# Find or create a Qdrant collection"
   ]
  },
  {
   "cell_type": "code",
   "execution_count": 2,
   "id": "5b4e5271",
   "metadata": {},
   "outputs": [],
   "source": [
    "def create_qdrant_collection(qdrant_client: QdrantClient) -> CollectionInfo:\n",
    "    qdrant_client = QdrantClient(\n",
    "        url=os.environ[\"QDRANT_URL\"],\n",
    "        api_key=os.environ[\"QDRANT_API_KEY\"]\n",
    "    )\n",
    "\n",
    "    collection_name = os.environ[\"QDRANT_COLLECTION_NAME\"]\n",
    "\n",
    "    if not qdrant_client.collection_exists(collection_name):\n",
    "        qdrant_client.create_collection(\n",
    "            collection_name=collection_name,\n",
    "            vectors_config=VectorParams(\n",
    "                size=dimensions,\n",
    "                distance=Distance.COSINE\n",
    "            )\n",
    "        )\n",
    "\n",
    "    return qdrant_client.get_collection(\n",
    "        collection_name=collection_name\n",
    "    )\n",
    "\n",
    "qdrant_client = QdrantClient(\n",
    "    url=os.environ[\"QDRANT_URL\"],\n",
    "    api_key=os.environ[\"QDRANT_API_KEY\"]\n",
    ")\n",
    "\n",
    "collection = create_qdrant_collection(qdrant_client)\n",
    "\n",
    "vector_store = QdrantVectorStore(\n",
    "    client=qdrant_client,\n",
    "    collection_name=os.environ[\"QDRANT_COLLECTION_NAME\"],\n",
    ")\n"
   ]
  },
  {
   "cell_type": "markdown",
   "id": "4ca9c71b",
   "metadata": {},
   "source": [
    "# Load documents then create and store embeddings."
   ]
  },
  {
   "cell_type": "code",
   "execution_count": 33,
   "id": "5cf6f4ba",
   "metadata": {},
   "outputs": [
    {
     "name": "stdout",
     "output_type": "stream",
     "text": [
      "<llama_index.core.indices.vector_store.base.VectorStoreIndex object at 0x13b9ad450>\n"
     ]
    }
   ],
   "source": [
    "storage_ctx=StorageContext.from_defaults(vector_store=vector_store)\n",
    "\n",
    "reader = GoogleDriveReader(\n",
    "    folder_id=os.environ[\"DRIVE_OR_FOLDER_ID\"],\n",
    "    service_account_key_path=\"gdrive-creds.json\",\n",
    "    file_extractor={\"docx\": DocxReader()}\n",
    ")\n",
    "\n",
    "index = VectorStoreIndex.from_documents(reader.load_data(), storage_context=storage_ctx)\n",
    "print(index)"
   ]
  },
  {
   "cell_type": "markdown",
   "id": "afb6811f",
   "metadata": {},
   "source": [
    "# Simple llama-based chat"
   ]
  },
  {
   "cell_type": "code",
   "execution_count": 3,
   "id": "e496034e",
   "metadata": {},
   "outputs": [
    {
     "name": "stdout",
     "output_type": "stream",
     "text": [
      "Emily Carter is subleasing the property located at 123 Birch Street, Newark, Delaware to Michael Brown.\n"
     ]
    }
   ],
   "source": [
    "index = VectorStoreIndex.from_vector_store(vector_store=vector_store)\n",
    "ce = index.as_chat_engine()\n",
    "response = ce.chat(\"What property is Emily Carter leasing or sub-leasing?\")\n",
    "print(response)"
   ]
  },
  {
   "cell_type": "markdown",
   "id": "89bbe3cb",
   "metadata": {},
   "source": [
    "# Create a codified retriever wrapping the default index retriever"
   ]
  },
  {
   "cell_type": "code",
   "execution_count": 3,
   "id": "e8de9ad0",
   "metadata": {},
   "outputs": [],
   "source": [
    "index = VectorStoreIndex.from_vector_store(vector_store=vector_store)\n",
    "codified_client = CodifiedClient(os.environ[\"CODIFIED_API_KEY\"], os.environ[\"CODIFIED_URL\"])\n",
    "codified_retriever = CodifiedRetriever(codified_client, index.as_retriever())\n",
    "ce = ContextChatEngine.from_defaults(\n",
    "    retriever=codified_retriever\n",
    ")"
   ]
  },
  {
   "cell_type": "markdown",
   "id": "10cd0960",
   "metadata": {},
   "source": [
    "# test prompts with different access contexts"
   ]
  },
  {
   "cell_type": "code",
   "execution_count": 6,
   "id": "df0a4c82",
   "metadata": {},
   "outputs": [
    {
     "name": "stdout",
     "output_type": "stream",
     "text": [
      "Emily Carter is subleasing the property located at 123 Birch Street, Newark, Delaware.\n",
      "Empty Response\n"
     ]
    }
   ],
   "source": [
    "with access_context(user_email=\"stefan@codified.io\"):\n",
    "    response = ce.chat(\"What property is Emily Carter leasing or sub-leasing?\")\n",
    "    print(response)\n",
    "\n",
    "with access_context(user_email=\"camila.c@g3a.io\"):\n",
    "    response = ce.chat(\"What property is Emily Carter leasing or sub-leasing?\")\n",
    "    print(response)"
   ]
  }
 ],
 "metadata": {
  "kernelspec": {
   "display_name": ".venv",
   "language": "python",
   "name": "python3"
  },
  "language_info": {
   "codemirror_mode": {
    "name": "ipython",
    "version": 3
   },
   "file_extension": ".py",
   "mimetype": "text/x-python",
   "name": "python",
   "nbconvert_exporter": "python",
   "pygments_lexer": "ipython3",
   "version": "3.13.2"
  }
 },
 "nbformat": 4,
 "nbformat_minor": 5
}
