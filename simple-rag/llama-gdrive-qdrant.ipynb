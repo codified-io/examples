{
 "cells": [
  {
   "cell_type": "markdown",
   "id": "6851a7e9",
   "metadata": {},
   "source": [
    "# Example: Chat bot over governed data using GDrive, Qdrant and Codified\n",
    "\n",
    "### Pre-requisites\n",
    "- A [Qdrant Cloud](https://qdrant.tech/) cluster\n",
    "- An [OpenAI Platform](https://platform.openai.com/docs/overview) API key\n",
    "\n",
    "### Setup\n",
    "To make things easy, we provide a sample Google Drive folder, which has lease agreements in docx and pdf formats, along with Google Workspace users you can use to test permissions enforcement. We also provide a Codified workspace already setup to connect to the lease agreenents Google Drive folder. [This](https://drive.google.com/drive/u/1/folders/1kfwunHsiJ_qb560HuGMrBf825nRMrHlS) is what the sample folder looks like. And, here are some user permissions that are set on the folder and that we use in this notebook:\n",
    "- camila.c@g3a.io has access to the entire folder.\n",
    "- eva.a@g3a.io has access to nothing.\n",
    "- ethan.e@g3a.io has access to \"cascade_realy_lease_agreement.docx\"\n",
    "\n",
    "If you want to try this sample against your own Google Drive, you will need your own Codified workspace, you can get one [here](https://p.codified.app/). \n",
    "\n",
    "Make a copy of `sample.env` and name it `.env`. This file contains configuration for using the sample Codfied instance and Google Drive along with settings you will need to provide: \n",
    "- An Open AI API key for creating embeddings\n",
    "- A Qdrant Cloud cluster url and an API key for storing your vectorized data."
   ]
  },
  {
   "cell_type": "code",
   "execution_count": null,
   "id": "ac426535",
   "metadata": {},
   "outputs": [],
   "source": [
    "# Use this if running from colab or other notebook hosters\n",
    "\n",
    "!wget https://github.com/codified-io/examples/blob/main/requirements.txt\n",
    "!wget https://github.com/codified-io/examples/blob/simple-rag/gdrive-creds.json\n",
    "%pip install -r requirements.txt"
   ]
  },
  {
   "cell_type": "code",
   "execution_count": null,
   "id": "1aaa6ca3",
   "metadata": {},
   "outputs": [],
   "source": [
    "import os\n",
    "\n",
    "from dotenv import load_dotenv\n",
    "from llama_index.core import Settings, StorageContext, VectorStoreIndex\n",
    "from llama_index.core.chat_engine import ContextChatEngine\n",
    "from llama_index.readers.file import DocxReader, PDFReader\n",
    "from llama_index.readers.google import GoogleDriveReader\n",
    "from llama_index.vector_stores.qdrant import QdrantVectorStore\n",
    "from qdrant_client import QdrantClient\n",
    "from qdrant_client.models import CollectionInfo, Distance, VectorParams\n",
    "\n",
    "from codified.client import CodifiedClient, access_context\n",
    "from codified.llama_index.retrievers import CodifiedRetriever\n",
    "\n",
    "load_dotenv()"
   ]
  },
  {
   "cell_type": "markdown",
   "id": "d9566eda",
   "metadata": {},
   "source": [
    "### Find or create a Qdrant collection"
   ]
  },
  {
   "cell_type": "code",
   "execution_count": null,
   "id": "5b4e5271",
   "metadata": {},
   "outputs": [],
   "source": [
    "def create_qdrant_collection(qdrant_client: QdrantClient) -> CollectionInfo:\n",
    "    qdrant_client = QdrantClient(\n",
    "        url=os.environ[\"QDRANT_URL\"],\n",
    "        api_key=os.environ[\"QDRANT_API_KEY\"]\n",
    "    )\n",
    "\n",
    "    collection_name = os.environ[\"QDRANT_COLLECTION_NAME\"]\n",
    "    dimensions = len(Settings.embed_model.get_text_embedding(\"get vector dimensions\"))\n",
    "\n",
    "    if not qdrant_client.collection_exists(collection_name):\n",
    "        qdrant_client.create_collection(\n",
    "            collection_name=collection_name,\n",
    "            vectors_config=VectorParams(\n",
    "                size=dimensions,\n",
    "                distance=Distance.COSINE\n",
    "            )\n",
    "        )\n",
    "\n",
    "    return qdrant_client.get_collection(\n",
    "        collection_name=collection_name\n",
    "    )\n",
    "\n",
    "qdrant_client = QdrantClient(\n",
    "    url=os.environ[\"QDRANT_URL\"],\n",
    "    api_key=os.environ[\"QDRANT_API_KEY\"]\n",
    ")\n",
    "\n",
    "collection = create_qdrant_collection(qdrant_client)\n",
    "\n",
    "vector_store = QdrantVectorStore(\n",
    "    client=qdrant_client,\n",
    "    collection_name=os.environ[\"QDRANT_COLLECTION_NAME\"],\n",
    ")\n"
   ]
  },
  {
   "cell_type": "markdown",
   "id": "4ca9c71b",
   "metadata": {},
   "source": [
    "### Load documents then create and store embeddings."
   ]
  },
  {
   "cell_type": "code",
   "execution_count": null,
   "id": "5cf6f4ba",
   "metadata": {},
   "outputs": [],
   "source": [
    "storage_ctx=StorageContext.from_defaults(vector_store=vector_store)\n",
    "\n",
    "reader = GoogleDriveReader(\n",
    "    folder_id=os.environ[\"DRIVE_OR_FOLDER_ID\"],\n",
    "    service_account_key_path=\"gdrive-creds.json\",\n",
    "    file_extractor={\n",
    "        \"docx\": DocxReader(),\n",
    "        \"pdf\": PDFReader()\n",
    "    }\n",
    ")\n",
    "\n",
    "index = VectorStoreIndex.from_documents(reader.load_data(), storage_context=storage_ctx)\n",
    "print(index)"
   ]
  },
  {
   "cell_type": "markdown",
   "id": "afb6811f",
   "metadata": {},
   "source": [
    "### Simple llama-based chat"
   ]
  },
  {
   "cell_type": "code",
   "execution_count": null,
   "id": "e496034e",
   "metadata": {},
   "outputs": [],
   "source": [
    "index = VectorStoreIndex.from_vector_store(vector_store=vector_store)\n",
    "ce = ContextChatEngine.from_defaults(retriever=index.as_retriever())\n",
    "response = ce.chat(\"What property is Emily Carter leasing or sub-leasing?\")\n",
    "print(response)"
   ]
  },
  {
   "cell_type": "markdown",
   "id": "89bbe3cb",
   "metadata": {},
   "source": [
    "### Governed llama-based chat\n",
    "\n",
    "We use a `CodfifiedRetriever` to tell Codified to enforce the permissions as they exist in GDrive."
   ]
  },
  {
   "cell_type": "code",
   "execution_count": null,
   "id": "e8de9ad0",
   "metadata": {},
   "outputs": [],
   "source": [
    "index = VectorStoreIndex.from_vector_store(vector_store=vector_store)\n",
    "codified_client = CodifiedClient(os.environ[\"CODIFIED_API_KEY\"], os.environ[\"CODIFIED_URL\"])\n",
    "codified_retriever = CodifiedRetriever(codified_client, index.as_retriever())\n",
    "ce = ContextChatEngine.from_defaults(retriever=codified_retriever)"
   ]
  },
  {
   "cell_type": "markdown",
   "id": "10cd0960",
   "metadata": {},
   "source": [
    "And we use an `access_context` to declare who is prompting our chat bot; they will only be able to get information that they have access to in GDrive."
   ]
  },
  {
   "cell_type": "code",
   "execution_count": null,
   "id": "df0a4c82",
   "metadata": {},
   "outputs": [],
   "source": [
    "with access_context(user_email=\"eva.a@g3a.io\"):\n",
    "    response = ce.chat(\"What property is Emily Carter leasing or sub-leasing?\")\n",
    "    print(response)\n",
    "\n",
    "with access_context(user_email=\"camila.c@g3a.io\"):\n",
    "    response = ce.chat(\"What property is Emily Carter leasing or sub-leasing?\")\n",
    "    print(response)\n",
    "\n",
    "with access_context(user_email=\"ethan.e@g3a.io\"):\n",
    "    response = ce.chat(\"What property is Emily Carter leasing or sub-leasing?\")\n",
    "    print(response)\n",
    "\n",
    "with access_context(user_email=\"ethan.e@g3a.io\"):\n",
    "    response = ce.chat(\"Who is the landlord of the property at 123 Adventure Street\")\n",
    "    print(response)"
   ]
  }
 ],
 "metadata": {
  "kernelspec": {
   "display_name": ".venv",
   "language": "python",
   "name": "python3"
  },
  "language_info": {
   "codemirror_mode": {
    "name": "ipython",
    "version": 3
   },
   "file_extension": ".py",
   "mimetype": "text/x-python",
   "name": "python",
   "nbconvert_exporter": "python",
   "pygments_lexer": "ipython3",
   "version": "3.13.2"
  }
 },
 "nbformat": 4,
 "nbformat_minor": 5
}
